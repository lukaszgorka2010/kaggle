{
 "cells": [
  {
   "cell_type": "code",
   "execution_count": 1,
   "id": "818462b6",
   "metadata": {
    "execution": {
     "iopub.execute_input": "2023-01-02T01:27:29.327898Z",
     "iopub.status.busy": "2023-01-02T01:27:29.327215Z",
     "iopub.status.idle": "2023-01-02T01:27:30.831722Z",
     "shell.execute_reply": "2023-01-02T01:27:30.829838Z"
    },
    "papermill": {
     "duration": 1.516266,
     "end_time": "2023-01-02T01:27:30.835398",
     "exception": false,
     "start_time": "2023-01-02T01:27:29.319132",
     "status": "completed"
    },
    "tags": []
   },
   "outputs": [],
   "source": [
    "# importing libraries\n",
    "import pandas as pd\n",
    "import numpy as np\n",
    "from sklearn.model_selection import train_test_split\n",
    "from sklearn.impute import SimpleImputer\n",
    "from sklearn.linear_model import LogisticRegression\n",
    "from sklearn.linear_model import SGDClassifier\n",
    "from sklearn.metrics import accuracy_score"
   ]
  },
  {
   "cell_type": "code",
   "execution_count": 2,
   "id": "3b4eaeb4",
   "metadata": {
    "execution": {
     "iopub.execute_input": "2023-01-02T01:27:30.847445Z",
     "iopub.status.busy": "2023-01-02T01:27:30.847014Z",
     "iopub.status.idle": "2023-01-02T01:27:30.986445Z",
     "shell.execute_reply": "2023-01-02T01:27:30.984414Z"
    },
    "papermill": {
     "duration": 0.149464,
     "end_time": "2023-01-02T01:27:30.989685",
     "exception": false,
     "start_time": "2023-01-02T01:27:30.840221",
     "status": "completed"
    },
    "tags": []
   },
   "outputs": [
    {
     "data": {
      "text/html": [
       "<div>\n",
       "<style scoped>\n",
       "    .dataframe tbody tr th:only-of-type {\n",
       "        vertical-align: middle;\n",
       "    }\n",
       "\n",
       "    .dataframe tbody tr th {\n",
       "        vertical-align: top;\n",
       "    }\n",
       "\n",
       "    .dataframe thead th {\n",
       "        text-align: right;\n",
       "    }\n",
       "</style>\n",
       "<table border=\"1\" class=\"dataframe\">\n",
       "  <thead>\n",
       "    <tr style=\"text-align: right;\">\n",
       "      <th></th>\n",
       "      <th>HomePlanet</th>\n",
       "      <th>CryoSleep</th>\n",
       "      <th>Cabin</th>\n",
       "      <th>Destination</th>\n",
       "      <th>Age</th>\n",
       "      <th>VIP</th>\n",
       "      <th>RoomService</th>\n",
       "      <th>FoodCourt</th>\n",
       "      <th>ShoppingMall</th>\n",
       "      <th>Spa</th>\n",
       "      <th>VRDeck</th>\n",
       "      <th>Name</th>\n",
       "      <th>Transported</th>\n",
       "    </tr>\n",
       "    <tr>\n",
       "      <th>PassengerId</th>\n",
       "      <th></th>\n",
       "      <th></th>\n",
       "      <th></th>\n",
       "      <th></th>\n",
       "      <th></th>\n",
       "      <th></th>\n",
       "      <th></th>\n",
       "      <th></th>\n",
       "      <th></th>\n",
       "      <th></th>\n",
       "      <th></th>\n",
       "      <th></th>\n",
       "      <th></th>\n",
       "    </tr>\n",
       "  </thead>\n",
       "  <tbody>\n",
       "    <tr>\n",
       "      <th>0001_01</th>\n",
       "      <td>Europa</td>\n",
       "      <td>False</td>\n",
       "      <td>B/0/P</td>\n",
       "      <td>TRAPPIST-1e</td>\n",
       "      <td>39.0</td>\n",
       "      <td>False</td>\n",
       "      <td>0.0</td>\n",
       "      <td>0.0</td>\n",
       "      <td>0.0</td>\n",
       "      <td>0.0</td>\n",
       "      <td>0.0</td>\n",
       "      <td>Maham Ofracculy</td>\n",
       "      <td>False</td>\n",
       "    </tr>\n",
       "    <tr>\n",
       "      <th>0002_01</th>\n",
       "      <td>Earth</td>\n",
       "      <td>False</td>\n",
       "      <td>F/0/S</td>\n",
       "      <td>TRAPPIST-1e</td>\n",
       "      <td>24.0</td>\n",
       "      <td>False</td>\n",
       "      <td>109.0</td>\n",
       "      <td>9.0</td>\n",
       "      <td>25.0</td>\n",
       "      <td>549.0</td>\n",
       "      <td>44.0</td>\n",
       "      <td>Juanna Vines</td>\n",
       "      <td>True</td>\n",
       "    </tr>\n",
       "    <tr>\n",
       "      <th>0003_01</th>\n",
       "      <td>Europa</td>\n",
       "      <td>False</td>\n",
       "      <td>A/0/S</td>\n",
       "      <td>TRAPPIST-1e</td>\n",
       "      <td>58.0</td>\n",
       "      <td>True</td>\n",
       "      <td>43.0</td>\n",
       "      <td>3576.0</td>\n",
       "      <td>0.0</td>\n",
       "      <td>6715.0</td>\n",
       "      <td>49.0</td>\n",
       "      <td>Altark Susent</td>\n",
       "      <td>False</td>\n",
       "    </tr>\n",
       "    <tr>\n",
       "      <th>0003_02</th>\n",
       "      <td>Europa</td>\n",
       "      <td>False</td>\n",
       "      <td>A/0/S</td>\n",
       "      <td>TRAPPIST-1e</td>\n",
       "      <td>33.0</td>\n",
       "      <td>False</td>\n",
       "      <td>0.0</td>\n",
       "      <td>1283.0</td>\n",
       "      <td>371.0</td>\n",
       "      <td>3329.0</td>\n",
       "      <td>193.0</td>\n",
       "      <td>Solam Susent</td>\n",
       "      <td>False</td>\n",
       "    </tr>\n",
       "    <tr>\n",
       "      <th>0004_01</th>\n",
       "      <td>Earth</td>\n",
       "      <td>False</td>\n",
       "      <td>F/1/S</td>\n",
       "      <td>TRAPPIST-1e</td>\n",
       "      <td>16.0</td>\n",
       "      <td>False</td>\n",
       "      <td>303.0</td>\n",
       "      <td>70.0</td>\n",
       "      <td>151.0</td>\n",
       "      <td>565.0</td>\n",
       "      <td>2.0</td>\n",
       "      <td>Willy Santantines</td>\n",
       "      <td>True</td>\n",
       "    </tr>\n",
       "  </tbody>\n",
       "</table>\n",
       "</div>"
      ],
      "text/plain": [
       "            HomePlanet CryoSleep  Cabin  Destination   Age    VIP  \\\n",
       "PassengerId                                                         \n",
       "0001_01         Europa     False  B/0/P  TRAPPIST-1e  39.0  False   \n",
       "0002_01          Earth     False  F/0/S  TRAPPIST-1e  24.0  False   \n",
       "0003_01         Europa     False  A/0/S  TRAPPIST-1e  58.0   True   \n",
       "0003_02         Europa     False  A/0/S  TRAPPIST-1e  33.0  False   \n",
       "0004_01          Earth     False  F/1/S  TRAPPIST-1e  16.0  False   \n",
       "\n",
       "             RoomService  FoodCourt  ShoppingMall     Spa  VRDeck  \\\n",
       "PassengerId                                                         \n",
       "0001_01              0.0        0.0           0.0     0.0     0.0   \n",
       "0002_01            109.0        9.0          25.0   549.0    44.0   \n",
       "0003_01             43.0     3576.0           0.0  6715.0    49.0   \n",
       "0003_02              0.0     1283.0         371.0  3329.0   193.0   \n",
       "0004_01            303.0       70.0         151.0   565.0     2.0   \n",
       "\n",
       "                          Name  Transported  \n",
       "PassengerId                                  \n",
       "0001_01        Maham Ofracculy        False  \n",
       "0002_01           Juanna Vines         True  \n",
       "0003_01          Altark Susent        False  \n",
       "0003_02           Solam Susent        False  \n",
       "0004_01      Willy Santantines         True  "
      ]
     },
     "execution_count": 2,
     "metadata": {},
     "output_type": "execute_result"
    }
   ],
   "source": [
    "# reading train and test datasets\n",
    "train_data = pd.read_csv(\"/kaggle/input/spaceship-titanic/train.csv\", index_col='PassengerId')\n",
    "test_data = pd.read_csv(\"/kaggle/input/spaceship-titanic/test.csv\", index_col='PassengerId')\n",
    "\n",
    "train_data.head()"
   ]
  },
  {
   "cell_type": "code",
   "execution_count": 3,
   "id": "f62eeb5b",
   "metadata": {
    "execution": {
     "iopub.execute_input": "2023-01-02T01:27:31.001226Z",
     "iopub.status.busy": "2023-01-02T01:27:31.000836Z",
     "iopub.status.idle": "2023-01-02T01:27:31.022631Z",
     "shell.execute_reply": "2023-01-02T01:27:31.021010Z"
    },
    "papermill": {
     "duration": 0.03081,
     "end_time": "2023-01-02T01:27:31.025374",
     "exception": false,
     "start_time": "2023-01-02T01:27:30.994564",
     "status": "completed"
    },
    "tags": []
   },
   "outputs": [
    {
     "data": {
      "text/html": [
       "<div>\n",
       "<style scoped>\n",
       "    .dataframe tbody tr th:only-of-type {\n",
       "        vertical-align: middle;\n",
       "    }\n",
       "\n",
       "    .dataframe tbody tr th {\n",
       "        vertical-align: top;\n",
       "    }\n",
       "\n",
       "    .dataframe thead th {\n",
       "        text-align: right;\n",
       "    }\n",
       "</style>\n",
       "<table border=\"1\" class=\"dataframe\">\n",
       "  <thead>\n",
       "    <tr style=\"text-align: right;\">\n",
       "      <th></th>\n",
       "      <th>HomePlanet</th>\n",
       "      <th>CryoSleep</th>\n",
       "      <th>Cabin</th>\n",
       "      <th>Destination</th>\n",
       "      <th>Age</th>\n",
       "      <th>VIP</th>\n",
       "      <th>RoomService</th>\n",
       "      <th>FoodCourt</th>\n",
       "      <th>ShoppingMall</th>\n",
       "      <th>Spa</th>\n",
       "      <th>VRDeck</th>\n",
       "      <th>Name</th>\n",
       "    </tr>\n",
       "    <tr>\n",
       "      <th>PassengerId</th>\n",
       "      <th></th>\n",
       "      <th></th>\n",
       "      <th></th>\n",
       "      <th></th>\n",
       "      <th></th>\n",
       "      <th></th>\n",
       "      <th></th>\n",
       "      <th></th>\n",
       "      <th></th>\n",
       "      <th></th>\n",
       "      <th></th>\n",
       "      <th></th>\n",
       "    </tr>\n",
       "  </thead>\n",
       "  <tbody>\n",
       "    <tr>\n",
       "      <th>0013_01</th>\n",
       "      <td>Earth</td>\n",
       "      <td>True</td>\n",
       "      <td>G/3/S</td>\n",
       "      <td>TRAPPIST-1e</td>\n",
       "      <td>27.0</td>\n",
       "      <td>False</td>\n",
       "      <td>0.0</td>\n",
       "      <td>0.0</td>\n",
       "      <td>0.0</td>\n",
       "      <td>0.0</td>\n",
       "      <td>0.0</td>\n",
       "      <td>Nelly Carsoning</td>\n",
       "    </tr>\n",
       "    <tr>\n",
       "      <th>0018_01</th>\n",
       "      <td>Earth</td>\n",
       "      <td>False</td>\n",
       "      <td>F/4/S</td>\n",
       "      <td>TRAPPIST-1e</td>\n",
       "      <td>19.0</td>\n",
       "      <td>False</td>\n",
       "      <td>0.0</td>\n",
       "      <td>9.0</td>\n",
       "      <td>0.0</td>\n",
       "      <td>2823.0</td>\n",
       "      <td>0.0</td>\n",
       "      <td>Lerome Peckers</td>\n",
       "    </tr>\n",
       "    <tr>\n",
       "      <th>0019_01</th>\n",
       "      <td>Europa</td>\n",
       "      <td>True</td>\n",
       "      <td>C/0/S</td>\n",
       "      <td>55 Cancri e</td>\n",
       "      <td>31.0</td>\n",
       "      <td>False</td>\n",
       "      <td>0.0</td>\n",
       "      <td>0.0</td>\n",
       "      <td>0.0</td>\n",
       "      <td>0.0</td>\n",
       "      <td>0.0</td>\n",
       "      <td>Sabih Unhearfus</td>\n",
       "    </tr>\n",
       "    <tr>\n",
       "      <th>0021_01</th>\n",
       "      <td>Europa</td>\n",
       "      <td>False</td>\n",
       "      <td>C/1/S</td>\n",
       "      <td>TRAPPIST-1e</td>\n",
       "      <td>38.0</td>\n",
       "      <td>False</td>\n",
       "      <td>0.0</td>\n",
       "      <td>6652.0</td>\n",
       "      <td>0.0</td>\n",
       "      <td>181.0</td>\n",
       "      <td>585.0</td>\n",
       "      <td>Meratz Caltilter</td>\n",
       "    </tr>\n",
       "    <tr>\n",
       "      <th>0023_01</th>\n",
       "      <td>Earth</td>\n",
       "      <td>False</td>\n",
       "      <td>F/5/S</td>\n",
       "      <td>TRAPPIST-1e</td>\n",
       "      <td>20.0</td>\n",
       "      <td>False</td>\n",
       "      <td>10.0</td>\n",
       "      <td>0.0</td>\n",
       "      <td>635.0</td>\n",
       "      <td>0.0</td>\n",
       "      <td>0.0</td>\n",
       "      <td>Brence Harperez</td>\n",
       "    </tr>\n",
       "  </tbody>\n",
       "</table>\n",
       "</div>"
      ],
      "text/plain": [
       "            HomePlanet CryoSleep  Cabin  Destination   Age    VIP  \\\n",
       "PassengerId                                                         \n",
       "0013_01          Earth      True  G/3/S  TRAPPIST-1e  27.0  False   \n",
       "0018_01          Earth     False  F/4/S  TRAPPIST-1e  19.0  False   \n",
       "0019_01         Europa      True  C/0/S  55 Cancri e  31.0  False   \n",
       "0021_01         Europa     False  C/1/S  TRAPPIST-1e  38.0  False   \n",
       "0023_01          Earth     False  F/5/S  TRAPPIST-1e  20.0  False   \n",
       "\n",
       "             RoomService  FoodCourt  ShoppingMall     Spa  VRDeck  \\\n",
       "PassengerId                                                         \n",
       "0013_01              0.0        0.0           0.0     0.0     0.0   \n",
       "0018_01              0.0        9.0           0.0  2823.0     0.0   \n",
       "0019_01              0.0        0.0           0.0     0.0     0.0   \n",
       "0021_01              0.0     6652.0           0.0   181.0   585.0   \n",
       "0023_01             10.0        0.0         635.0     0.0     0.0   \n",
       "\n",
       "                         Name  \n",
       "PassengerId                    \n",
       "0013_01       Nelly Carsoning  \n",
       "0018_01        Lerome Peckers  \n",
       "0019_01       Sabih Unhearfus  \n",
       "0021_01      Meratz Caltilter  \n",
       "0023_01       Brence Harperez  "
      ]
     },
     "execution_count": 3,
     "metadata": {},
     "output_type": "execute_result"
    }
   ],
   "source": [
    "test_data.head()"
   ]
  },
  {
   "cell_type": "code",
   "execution_count": 4,
   "id": "af2da6c2",
   "metadata": {
    "execution": {
     "iopub.execute_input": "2023-01-02T01:27:31.039808Z",
     "iopub.status.busy": "2023-01-02T01:27:31.039232Z",
     "iopub.status.idle": "2023-01-02T01:27:31.090057Z",
     "shell.execute_reply": "2023-01-02T01:27:31.088720Z"
    },
    "papermill": {
     "duration": 0.06134,
     "end_time": "2023-01-02T01:27:31.092878",
     "exception": false,
     "start_time": "2023-01-02T01:27:31.031538",
     "status": "completed"
    },
    "tags": []
   },
   "outputs": [
    {
     "name": "stdout",
     "output_type": "stream",
     "text": [
      "<class 'pandas.core.frame.DataFrame'>\n",
      "Index: 8693 entries, 0001_01 to 9280_02\n",
      "Data columns (total 13 columns):\n",
      " #   Column        Non-Null Count  Dtype  \n",
      "---  ------        --------------  -----  \n",
      " 0   HomePlanet    8492 non-null   object \n",
      " 1   CryoSleep     8476 non-null   object \n",
      " 2   Cabin         8494 non-null   object \n",
      " 3   Destination   8511 non-null   object \n",
      " 4   Age           8514 non-null   float64\n",
      " 5   VIP           8490 non-null   object \n",
      " 6   RoomService   8512 non-null   float64\n",
      " 7   FoodCourt     8510 non-null   float64\n",
      " 8   ShoppingMall  8485 non-null   float64\n",
      " 9   Spa           8510 non-null   float64\n",
      " 10  VRDeck        8505 non-null   float64\n",
      " 11  Name          8493 non-null   object \n",
      " 12  Transported   8693 non-null   bool   \n",
      "dtypes: bool(1), float64(6), object(6)\n",
      "memory usage: 891.4+ KB\n"
     ]
    },
    {
     "data": {
      "text/plain": [
       "None"
      ]
     },
     "metadata": {},
     "output_type": "display_data"
    },
    {
     "data": {
      "text/plain": [
       "HomePlanet         3\n",
       "CryoSleep          2\n",
       "Cabin           6560\n",
       "Destination        3\n",
       "Age               80\n",
       "VIP                2\n",
       "RoomService     1273\n",
       "FoodCourt       1507\n",
       "ShoppingMall    1115\n",
       "Spa             1327\n",
       "VRDeck          1306\n",
       "Name            8473\n",
       "Transported        2\n",
       "dtype: int64"
      ]
     },
     "metadata": {},
     "output_type": "display_data"
    }
   ],
   "source": [
    "display(train_data.info())\n",
    "display(train_data.nunique())"
   ]
  },
  {
   "cell_type": "code",
   "execution_count": 5,
   "id": "dce32062",
   "metadata": {
    "execution": {
     "iopub.execute_input": "2023-01-02T01:27:31.106261Z",
     "iopub.status.busy": "2023-01-02T01:27:31.105858Z",
     "iopub.status.idle": "2023-01-02T01:27:31.124831Z",
     "shell.execute_reply": "2023-01-02T01:27:31.123244Z"
    },
    "papermill": {
     "duration": 0.029299,
     "end_time": "2023-01-02T01:27:31.127647",
     "exception": false,
     "start_time": "2023-01-02T01:27:31.098348",
     "status": "completed"
    },
    "tags": []
   },
   "outputs": [],
   "source": [
    "# select predictors\n",
    "cols_to_use = ['HomePlanet','CryoSleep', 'Cabin', 'Destination', 'Age', 'VIP', 'RoomService','FoodCourt',\n",
    "'ShoppingMall', 'Spa', 'VRDeck']\n",
    "X = train_data[cols_to_use]\n",
    "X_test = test_data[cols_to_use]\n",
    "\n",
    "# select target\n",
    "y = train_data.Transported\n",
    "\n",
    "# splitting training data into training and validation subsets\n",
    "X_train, X_valid, y_train, y_valid = train_test_split(X,y,train_size=0.8)"
   ]
  },
  {
   "cell_type": "code",
   "execution_count": 6,
   "id": "82abe6e3",
   "metadata": {
    "execution": {
     "iopub.execute_input": "2023-01-02T01:27:31.140409Z",
     "iopub.status.busy": "2023-01-02T01:27:31.139966Z",
     "iopub.status.idle": "2023-01-02T01:27:31.158807Z",
     "shell.execute_reply": "2023-01-02T01:27:31.156841Z"
    },
    "papermill": {
     "duration": 0.03013,
     "end_time": "2023-01-02T01:27:31.163126",
     "exception": false,
     "start_time": "2023-01-02T01:27:31.132996",
     "status": "completed"
    },
    "tags": []
   },
   "outputs": [
    {
     "name": "stdout",
     "output_type": "stream",
     "text": [
      "<class 'pandas.core.frame.DataFrame'>\n",
      "Index: 6954 entries, 1148_07 to 5756_07\n",
      "Data columns (total 11 columns):\n",
      " #   Column        Non-Null Count  Dtype  \n",
      "---  ------        --------------  -----  \n",
      " 0   HomePlanet    6793 non-null   object \n",
      " 1   CryoSleep     6785 non-null   object \n",
      " 2   Cabin         6799 non-null   object \n",
      " 3   Destination   6808 non-null   object \n",
      " 4   Age           6808 non-null   float64\n",
      " 5   VIP           6787 non-null   object \n",
      " 6   RoomService   6807 non-null   float64\n",
      " 7   FoodCourt     6811 non-null   float64\n",
      " 8   ShoppingMall  6793 non-null   float64\n",
      " 9   Spa           6809 non-null   float64\n",
      " 10  VRDeck        6814 non-null   float64\n",
      "dtypes: float64(6), object(5)\n",
      "memory usage: 651.9+ KB\n"
     ]
    }
   ],
   "source": [
    "X_train.info()"
   ]
  },
  {
   "cell_type": "code",
   "execution_count": 7,
   "id": "91feefd3",
   "metadata": {
    "execution": {
     "iopub.execute_input": "2023-01-02T01:27:31.176982Z",
     "iopub.status.busy": "2023-01-02T01:27:31.176574Z",
     "iopub.status.idle": "2023-01-02T01:27:31.266613Z",
     "shell.execute_reply": "2023-01-02T01:27:31.264869Z"
    },
    "papermill": {
     "duration": 0.100968,
     "end_time": "2023-01-02T01:27:31.270209",
     "exception": false,
     "start_time": "2023-01-02T01:27:31.169241",
     "status": "completed"
    },
    "tags": []
   },
   "outputs": [],
   "source": [
    "#extracting numeric columns for further encoding and imputing missing values\n",
    "num_cols_train = [col for col in X_train if X_train[col].dtype in ['float64']]\n",
    "num_cols_valid = [col for col in X_valid if X_valid[col].dtype in ['float64']]\n",
    "num_cols_test = [col for col in X_test if X_test[col].dtype in ['float64']]\n",
    "\n",
    "num_cols_train = X_train[num_cols_test]\n",
    "num_cols_valid = X_valid[num_cols_valid]\n",
    "num_cols_test = X_test[num_cols_test]\n",
    "\n",
    "num_c_train, num_i_train = num_cols_train.columns, num_cols_train.index\n",
    "num_c_valid, num_i_valid = num_cols_valid.columns, num_cols_valid.index\n",
    "num_c_test, num_i_test = num_cols_test.columns, num_cols_test.index\n",
    "\n",
    "num_imputer = SimpleImputer(strategy='median')\n",
    "num_cols_train = pd.DataFrame(num_imputer.fit_transform(num_cols_train,y_train))\n",
    "num_cols_valid= pd.DataFrame(num_imputer.transform(num_cols_valid))\n",
    "num_cols_test = pd.DataFrame(num_imputer.transform(num_cols_test))\n",
    "\n",
    "num_cols_train.columns, num_cols_train.index = num_c_train, num_i_train\n",
    "num_cols_valid.columns, num_cols_valid.index = num_c_valid, num_i_valid\n",
    "num_cols_test.columns, num_cols_test.index = num_c_test, num_i_test\n",
    "\n",
    "#imputing missing values\n",
    "imputer = SimpleImputer(strategy='most_frequent')\n",
    "\n",
    "train_cols=X_train.columns\n",
    "\n",
    "train_index = X_train.index\n",
    "valid_cols=X_valid.columns\n",
    "valid_index=X_valid.index\n",
    "test_cols=X_test.columns\n",
    "test_index=X_test.index\n",
    "\n",
    "X_train=pd.DataFrame(imputer.fit_transform(X_train, y_train))\n",
    "\n",
    "X_valid=pd.DataFrame(imputer.transform(X_valid))\n",
    "\n",
    "X_test=pd.DataFrame(imputer.transform(X_test))\n",
    "\n",
    "X_train.columns = train_cols\n",
    "X_train.index = train_index\n",
    "X_valid.columns = valid_cols\n",
    "X_valid.index = valid_index\n",
    "X_test.columns = test_cols\n",
    "X_test.index = test_index\n",
    "\n",
    "#inserting numeric columns back\n",
    "X_train[num_c_train] = num_cols_train\n",
    "X_valid[num_c_valid] = num_cols_valid\n",
    "X_test[num_c_test] = num_cols_test"
   ]
  },
  {
   "cell_type": "code",
   "execution_count": 8,
   "id": "c6a0f294",
   "metadata": {
    "execution": {
     "iopub.execute_input": "2023-01-02T01:27:31.284897Z",
     "iopub.status.busy": "2023-01-02T01:27:31.283459Z",
     "iopub.status.idle": "2023-01-02T01:27:31.339715Z",
     "shell.execute_reply": "2023-01-02T01:27:31.338429Z"
    },
    "papermill": {
     "duration": 0.066675,
     "end_time": "2023-01-02T01:27:31.342581",
     "exception": false,
     "start_time": "2023-01-02T01:27:31.275906",
     "status": "completed"
    },
    "tags": []
   },
   "outputs": [],
   "source": [
    "#splitting Cabin column\n",
    "train_cab_expanded = X_train['Cabin'].str.split('/',expand=True)\n",
    "X_train[['Cab_1', 'Cab_2', 'Cab_3']] = train_cab_expanded\n",
    "\n",
    "valid_cab_expanded = X_valid['Cabin'].str.split('/',expand=True)\n",
    "X_valid[['Cab_1', 'Cab_2', 'Cab_3']] = valid_cab_expanded\n",
    "\n",
    "test_cab_exp = X_test['Cabin'].str.split('/',expand=True)\n",
    "X_test[['Cab_1', 'Cab_2', 'Cab_3']] = test_cab_exp\n",
    "\n",
    "X_train['Cab_2']=pd.to_numeric(X_train['Cab_2'], errors='coerce')\n",
    "X_valid['Cab_2']=pd.to_numeric(X_valid['Cab_2'], errors='coerce')\n",
    "X_test['Cab_2']=pd.to_numeric(X_test['Cab_2'], errors='coerce')\n",
    "\n",
    "X_train=X_train.drop('Cabin', axis=1)\n",
    "X_valid=X_valid.drop('Cabin', axis=1)\n",
    "X_test=X_test.drop('Cabin', axis=1)"
   ]
  },
  {
   "cell_type": "code",
   "execution_count": 9,
   "id": "d4a83e77",
   "metadata": {
    "execution": {
     "iopub.execute_input": "2023-01-02T01:27:31.355965Z",
     "iopub.status.busy": "2023-01-02T01:27:31.355546Z",
     "iopub.status.idle": "2023-01-02T01:27:31.378601Z",
     "shell.execute_reply": "2023-01-02T01:27:31.376899Z"
    },
    "papermill": {
     "duration": 0.033392,
     "end_time": "2023-01-02T01:27:31.381637",
     "exception": false,
     "start_time": "2023-01-02T01:27:31.348245",
     "status": "completed"
    },
    "tags": []
   },
   "outputs": [
    {
     "data": {
      "text/html": [
       "<div>\n",
       "<style scoped>\n",
       "    .dataframe tbody tr th:only-of-type {\n",
       "        vertical-align: middle;\n",
       "    }\n",
       "\n",
       "    .dataframe tbody tr th {\n",
       "        vertical-align: top;\n",
       "    }\n",
       "\n",
       "    .dataframe thead th {\n",
       "        text-align: right;\n",
       "    }\n",
       "</style>\n",
       "<table border=\"1\" class=\"dataframe\">\n",
       "  <thead>\n",
       "    <tr style=\"text-align: right;\">\n",
       "      <th></th>\n",
       "      <th>HomePlanet</th>\n",
       "      <th>CryoSleep</th>\n",
       "      <th>Destination</th>\n",
       "      <th>Age</th>\n",
       "      <th>VIP</th>\n",
       "      <th>RoomService</th>\n",
       "      <th>FoodCourt</th>\n",
       "      <th>ShoppingMall</th>\n",
       "      <th>Spa</th>\n",
       "      <th>VRDeck</th>\n",
       "      <th>Cab_1</th>\n",
       "      <th>Cab_2</th>\n",
       "      <th>Cab_3</th>\n",
       "    </tr>\n",
       "    <tr>\n",
       "      <th>PassengerId</th>\n",
       "      <th></th>\n",
       "      <th></th>\n",
       "      <th></th>\n",
       "      <th></th>\n",
       "      <th></th>\n",
       "      <th></th>\n",
       "      <th></th>\n",
       "      <th></th>\n",
       "      <th></th>\n",
       "      <th></th>\n",
       "      <th></th>\n",
       "      <th></th>\n",
       "      <th></th>\n",
       "    </tr>\n",
       "  </thead>\n",
       "  <tbody>\n",
       "    <tr>\n",
       "      <th>1148_07</th>\n",
       "      <td>Europa</td>\n",
       "      <td>False</td>\n",
       "      <td>55 Cancri e</td>\n",
       "      <td>34.0</td>\n",
       "      <td>False</td>\n",
       "      <td>2386.0</td>\n",
       "      <td>841.0</td>\n",
       "      <td>76.0</td>\n",
       "      <td>26.0</td>\n",
       "      <td>1693.0</td>\n",
       "      <td>C</td>\n",
       "      <td>42</td>\n",
       "      <td>P</td>\n",
       "    </tr>\n",
       "    <tr>\n",
       "      <th>7255_01</th>\n",
       "      <td>Earth</td>\n",
       "      <td>False</td>\n",
       "      <td>TRAPPIST-1e</td>\n",
       "      <td>10.0</td>\n",
       "      <td>False</td>\n",
       "      <td>0.0</td>\n",
       "      <td>0.0</td>\n",
       "      <td>0.0</td>\n",
       "      <td>0.0</td>\n",
       "      <td>0.0</td>\n",
       "      <td>G</td>\n",
       "      <td>1166</td>\n",
       "      <td>P</td>\n",
       "    </tr>\n",
       "    <tr>\n",
       "      <th>1736_01</th>\n",
       "      <td>Earth</td>\n",
       "      <td>True</td>\n",
       "      <td>PSO J318.5-22</td>\n",
       "      <td>22.0</td>\n",
       "      <td>False</td>\n",
       "      <td>0.0</td>\n",
       "      <td>0.0</td>\n",
       "      <td>0.0</td>\n",
       "      <td>0.0</td>\n",
       "      <td>0.0</td>\n",
       "      <td>G</td>\n",
       "      <td>284</td>\n",
       "      <td>P</td>\n",
       "    </tr>\n",
       "    <tr>\n",
       "      <th>4239_01</th>\n",
       "      <td>Earth</td>\n",
       "      <td>False</td>\n",
       "      <td>TRAPPIST-1e</td>\n",
       "      <td>68.0</td>\n",
       "      <td>False</td>\n",
       "      <td>0.0</td>\n",
       "      <td>1.0</td>\n",
       "      <td>223.0</td>\n",
       "      <td>580.0</td>\n",
       "      <td>0.0</td>\n",
       "      <td>F</td>\n",
       "      <td>875</td>\n",
       "      <td>P</td>\n",
       "    </tr>\n",
       "    <tr>\n",
       "      <th>1928_01</th>\n",
       "      <td>Earth</td>\n",
       "      <td>False</td>\n",
       "      <td>PSO J318.5-22</td>\n",
       "      <td>21.0</td>\n",
       "      <td>False</td>\n",
       "      <td>0.0</td>\n",
       "      <td>0.0</td>\n",
       "      <td>107.0</td>\n",
       "      <td>166.0</td>\n",
       "      <td>388.0</td>\n",
       "      <td>E</td>\n",
       "      <td>144</td>\n",
       "      <td>S</td>\n",
       "    </tr>\n",
       "  </tbody>\n",
       "</table>\n",
       "</div>"
      ],
      "text/plain": [
       "            HomePlanet CryoSleep    Destination   Age    VIP  RoomService  \\\n",
       "PassengerId                                                                 \n",
       "1148_07         Europa     False    55 Cancri e  34.0  False       2386.0   \n",
       "7255_01          Earth     False    TRAPPIST-1e  10.0  False          0.0   \n",
       "1736_01          Earth      True  PSO J318.5-22  22.0  False          0.0   \n",
       "4239_01          Earth     False    TRAPPIST-1e  68.0  False          0.0   \n",
       "1928_01          Earth     False  PSO J318.5-22  21.0  False          0.0   \n",
       "\n",
       "             FoodCourt  ShoppingMall    Spa  VRDeck Cab_1  Cab_2 Cab_3  \n",
       "PassengerId                                                             \n",
       "1148_07          841.0          76.0   26.0  1693.0     C     42     P  \n",
       "7255_01            0.0           0.0    0.0     0.0     G   1166     P  \n",
       "1736_01            0.0           0.0    0.0     0.0     G    284     P  \n",
       "4239_01            1.0         223.0  580.0     0.0     F    875     P  \n",
       "1928_01            0.0         107.0  166.0   388.0     E    144     S  "
      ]
     },
     "execution_count": 9,
     "metadata": {},
     "output_type": "execute_result"
    }
   ],
   "source": [
    "X_train.head()"
   ]
  },
  {
   "cell_type": "code",
   "execution_count": 10,
   "id": "89705574",
   "metadata": {
    "execution": {
     "iopub.execute_input": "2023-01-02T01:27:31.395413Z",
     "iopub.status.busy": "2023-01-02T01:27:31.395019Z",
     "iopub.status.idle": "2023-01-02T01:27:31.450584Z",
     "shell.execute_reply": "2023-01-02T01:27:31.449523Z"
    },
    "papermill": {
     "duration": 0.065915,
     "end_time": "2023-01-02T01:27:31.453565",
     "exception": false,
     "start_time": "2023-01-02T01:27:31.387650",
     "status": "completed"
    },
    "tags": []
   },
   "outputs": [],
   "source": [
    "#num_cols = [col for col in X if X[col].dtype in ['int64', 'float64']]\n",
    "\n",
    "low_card_cols_train = [col for col in X_train if X_train[col].nunique() < 10 and\n",
    "X_train[col].dtype == 'object']\n",
    "low_card_cols_valid = [col for col in X_valid if X_valid[col].nunique() < 10 and\n",
    "X_valid[col].dtype == 'object']\n",
    "low_card_cols_test = [col for col in X_test if X_test[col].nunique() < 10 and\n",
    "X_test[col].dtype == 'object']\n",
    "\n",
    "#applying one hot encoding to low cardinality categorical columns\n",
    "X_train = pd.get_dummies(X_train,columns=low_card_cols_train)\n",
    "X_valid = pd.get_dummies(X_valid, columns=low_card_cols_valid)\n",
    "X_test = pd.get_dummies(X_test,columns=low_card_cols_test)"
   ]
  },
  {
   "cell_type": "code",
   "execution_count": 11,
   "id": "f1702b59",
   "metadata": {
    "execution": {
     "iopub.execute_input": "2023-01-02T01:27:31.467397Z",
     "iopub.status.busy": "2023-01-02T01:27:31.466970Z",
     "iopub.status.idle": "2023-01-02T01:27:31.487298Z",
     "shell.execute_reply": "2023-01-02T01:27:31.485159Z"
    },
    "papermill": {
     "duration": 0.030567,
     "end_time": "2023-01-02T01:27:31.490256",
     "exception": false,
     "start_time": "2023-01-02T01:27:31.459689",
     "status": "completed"
    },
    "tags": []
   },
   "outputs": [
    {
     "name": "stdout",
     "output_type": "stream",
     "text": [
      "<class 'pandas.core.frame.DataFrame'>\n",
      "Index: 1739 entries, 4010_01 to 1071_01\n",
      "Data columns (total 27 columns):\n",
      " #   Column                     Non-Null Count  Dtype  \n",
      "---  ------                     --------------  -----  \n",
      " 0   Age                        1739 non-null   float64\n",
      " 1   RoomService                1739 non-null   float64\n",
      " 2   FoodCourt                  1739 non-null   float64\n",
      " 3   ShoppingMall               1739 non-null   float64\n",
      " 4   Spa                        1739 non-null   float64\n",
      " 5   VRDeck                     1739 non-null   float64\n",
      " 6   Cab_2                      1739 non-null   int64  \n",
      " 7   HomePlanet_Earth           1739 non-null   uint8  \n",
      " 8   HomePlanet_Europa          1739 non-null   uint8  \n",
      " 9   HomePlanet_Mars            1739 non-null   uint8  \n",
      " 10  CryoSleep_False            1739 non-null   uint8  \n",
      " 11  CryoSleep_True             1739 non-null   uint8  \n",
      " 12  Destination_55 Cancri e    1739 non-null   uint8  \n",
      " 13  Destination_PSO J318.5-22  1739 non-null   uint8  \n",
      " 14  Destination_TRAPPIST-1e    1739 non-null   uint8  \n",
      " 15  VIP_False                  1739 non-null   uint8  \n",
      " 16  VIP_True                   1739 non-null   uint8  \n",
      " 17  Cab_1_A                    1739 non-null   uint8  \n",
      " 18  Cab_1_B                    1739 non-null   uint8  \n",
      " 19  Cab_1_C                    1739 non-null   uint8  \n",
      " 20  Cab_1_D                    1739 non-null   uint8  \n",
      " 21  Cab_1_E                    1739 non-null   uint8  \n",
      " 22  Cab_1_F                    1739 non-null   uint8  \n",
      " 23  Cab_1_G                    1739 non-null   uint8  \n",
      " 24  Cab_1_T                    1739 non-null   uint8  \n",
      " 25  Cab_3_P                    1739 non-null   uint8  \n",
      " 26  Cab_3_S                    1739 non-null   uint8  \n",
      "dtypes: float64(6), int64(1), uint8(20)\n",
      "memory usage: 142.7+ KB\n"
     ]
    }
   ],
   "source": [
    "X_valid.info()"
   ]
  },
  {
   "cell_type": "code",
   "execution_count": null,
   "id": "66fea455",
   "metadata": {
    "papermill": {
     "duration": 0.005823,
     "end_time": "2023-01-02T01:27:31.502455",
     "exception": false,
     "start_time": "2023-01-02T01:27:31.496632",
     "status": "completed"
    },
    "tags": []
   },
   "outputs": [],
   "source": []
  },
  {
   "cell_type": "code",
   "execution_count": 12,
   "id": "137168f8",
   "metadata": {
    "execution": {
     "iopub.execute_input": "2023-01-02T01:27:31.516585Z",
     "iopub.status.busy": "2023-01-02T01:27:31.516157Z",
     "iopub.status.idle": "2023-01-02T01:27:32.896082Z",
     "shell.execute_reply": "2023-01-02T01:27:32.894244Z"
    },
    "papermill": {
     "duration": 1.391873,
     "end_time": "2023-01-02T01:27:32.900579",
     "exception": false,
     "start_time": "2023-01-02T01:27:31.508706",
     "status": "completed"
    },
    "tags": []
   },
   "outputs": [
    {
     "data": {
      "text/plain": [
       "0.7734330074755607"
      ]
     },
     "execution_count": 12,
     "metadata": {},
     "output_type": "execute_result"
    }
   ],
   "source": [
    "#fitting model\n",
    "model = LogisticRegression(max_iter=2000, random_state=0)\n",
    "model.fit(X_train, y_train)\n",
    "predictions = model.predict(X_valid)\n",
    "y_valid_transported = np.array(y_valid.reset_index()['Transported'])\n",
    "\n",
    "accuracy_score(y_valid_transported, predictions)"
   ]
  },
  {
   "cell_type": "code",
   "execution_count": 13,
   "id": "245e7dc5",
   "metadata": {
    "execution": {
     "iopub.execute_input": "2023-01-02T01:27:32.937390Z",
     "iopub.status.busy": "2023-01-02T01:27:32.936672Z",
     "iopub.status.idle": "2023-01-02T01:27:34.226339Z",
     "shell.execute_reply": "2023-01-02T01:27:34.224093Z"
    },
    "papermill": {
     "duration": 1.315913,
     "end_time": "2023-01-02T01:27:34.233218",
     "exception": false,
     "start_time": "2023-01-02T01:27:32.917305",
     "status": "completed"
    },
    "tags": []
   },
   "outputs": [
    {
     "data": {
      "text/plain": [
       "0.777458309373203"
      ]
     },
     "execution_count": 13,
     "metadata": {},
     "output_type": "execute_result"
    }
   ],
   "source": [
    "#different model parameters\n",
    "model2 = LogisticRegression(max_iter=2000, class_weight='balanced', random_state=0)\n",
    "model2.fit(X_train, y_train)\n",
    "predictions = model2.predict(X_valid)\n",
    "y_valid_transported = np.array(y_valid.reset_index()['Transported'])\n",
    "\n",
    "accuracy_score(y_valid_transported, predictions)"
   ]
  },
  {
   "cell_type": "code",
   "execution_count": 14,
   "id": "bab45b53",
   "metadata": {
    "execution": {
     "iopub.execute_input": "2023-01-02T01:27:34.273817Z",
     "iopub.status.busy": "2023-01-02T01:27:34.273080Z",
     "iopub.status.idle": "2023-01-02T01:27:34.383889Z",
     "shell.execute_reply": "2023-01-02T01:27:34.382639Z"
    },
    "papermill": {
     "duration": 0.136925,
     "end_time": "2023-01-02T01:27:34.388923",
     "exception": false,
     "start_time": "2023-01-02T01:27:34.251998",
     "status": "completed"
    },
    "tags": []
   },
   "outputs": [
    {
     "data": {
      "text/plain": [
       "0.5710178263369753"
      ]
     },
     "execution_count": 14,
     "metadata": {},
     "output_type": "execute_result"
    }
   ],
   "source": [
    "#different model\n",
    "model3 = SGDClassifier(random_state=0)\n",
    "model3.fit(X_train, y_train)\n",
    "predictions = model3.predict(X_valid)\n",
    "y_valid_transported = np.array(y_valid.reset_index()['Transported'])\n",
    "\n",
    "accuracy_score(y_valid_transported, predictions)"
   ]
  },
  {
   "cell_type": "markdown",
   "id": "4c2e50fd",
   "metadata": {
    "papermill": {
     "duration": 0.017316,
     "end_time": "2023-01-02T01:27:34.425137",
     "exception": false,
     "start_time": "2023-01-02T01:27:34.407821",
     "status": "completed"
    },
    "tags": []
   },
   "source": [
    "Since the first model has the highest accuracy, I'll use it to predict values of the test set"
   ]
  },
  {
   "cell_type": "code",
   "execution_count": 15,
   "id": "eed429bb",
   "metadata": {
    "execution": {
     "iopub.execute_input": "2023-01-02T01:27:34.462967Z",
     "iopub.status.busy": "2023-01-02T01:27:34.462116Z",
     "iopub.status.idle": "2023-01-02T01:27:34.494636Z",
     "shell.execute_reply": "2023-01-02T01:27:34.492844Z"
    },
    "papermill": {
     "duration": 0.055679,
     "end_time": "2023-01-02T01:27:34.499246",
     "exception": false,
     "start_time": "2023-01-02T01:27:34.443567",
     "status": "completed"
    },
    "tags": []
   },
   "outputs": [
    {
     "data": {
      "text/html": [
       "<div>\n",
       "<style scoped>\n",
       "    .dataframe tbody tr th:only-of-type {\n",
       "        vertical-align: middle;\n",
       "    }\n",
       "\n",
       "    .dataframe tbody tr th {\n",
       "        vertical-align: top;\n",
       "    }\n",
       "\n",
       "    .dataframe thead th {\n",
       "        text-align: right;\n",
       "    }\n",
       "</style>\n",
       "<table border=\"1\" class=\"dataframe\">\n",
       "  <thead>\n",
       "    <tr style=\"text-align: right;\">\n",
       "      <th></th>\n",
       "      <th>Transported</th>\n",
       "    </tr>\n",
       "    <tr>\n",
       "      <th>PassengerId</th>\n",
       "      <th></th>\n",
       "    </tr>\n",
       "  </thead>\n",
       "  <tbody>\n",
       "    <tr>\n",
       "      <th>0013_01</th>\n",
       "      <td>True</td>\n",
       "    </tr>\n",
       "    <tr>\n",
       "      <th>0018_01</th>\n",
       "      <td>False</td>\n",
       "    </tr>\n",
       "    <tr>\n",
       "      <th>0019_01</th>\n",
       "      <td>True</td>\n",
       "    </tr>\n",
       "    <tr>\n",
       "      <th>0021_01</th>\n",
       "      <td>True</td>\n",
       "    </tr>\n",
       "    <tr>\n",
       "      <th>0023_01</th>\n",
       "      <td>True</td>\n",
       "    </tr>\n",
       "    <tr>\n",
       "      <th>...</th>\n",
       "      <td>...</td>\n",
       "    </tr>\n",
       "    <tr>\n",
       "      <th>9266_02</th>\n",
       "      <td>True</td>\n",
       "    </tr>\n",
       "    <tr>\n",
       "      <th>9269_01</th>\n",
       "      <td>False</td>\n",
       "    </tr>\n",
       "    <tr>\n",
       "      <th>9271_01</th>\n",
       "      <td>True</td>\n",
       "    </tr>\n",
       "    <tr>\n",
       "      <th>9273_01</th>\n",
       "      <td>True</td>\n",
       "    </tr>\n",
       "    <tr>\n",
       "      <th>9277_01</th>\n",
       "      <td>True</td>\n",
       "    </tr>\n",
       "  </tbody>\n",
       "</table>\n",
       "<p>4277 rows × 1 columns</p>\n",
       "</div>"
      ],
      "text/plain": [
       "             Transported\n",
       "PassengerId             \n",
       "0013_01             True\n",
       "0018_01            False\n",
       "0019_01             True\n",
       "0021_01             True\n",
       "0023_01             True\n",
       "...                  ...\n",
       "9266_02             True\n",
       "9269_01            False\n",
       "9271_01             True\n",
       "9273_01             True\n",
       "9277_01             True\n",
       "\n",
       "[4277 rows x 1 columns]"
      ]
     },
     "execution_count": 15,
     "metadata": {},
     "output_type": "execute_result"
    }
   ],
   "source": [
    "# predicting y_test\n",
    "y_test = pd.DataFrame(model.predict(X_test))\n",
    "y_test.columns = ['Transported']\n",
    "y_test.index = X_test.index\n",
    "y_test"
   ]
  },
  {
   "cell_type": "code",
   "execution_count": 16,
   "id": "5ec428d3",
   "metadata": {
    "execution": {
     "iopub.execute_input": "2023-01-02T01:27:34.537385Z",
     "iopub.status.busy": "2023-01-02T01:27:34.536638Z",
     "iopub.status.idle": "2023-01-02T01:27:34.557071Z",
     "shell.execute_reply": "2023-01-02T01:27:34.555354Z"
    },
    "papermill": {
     "duration": 0.044709,
     "end_time": "2023-01-02T01:27:34.561701",
     "exception": false,
     "start_time": "2023-01-02T01:27:34.516992",
     "status": "completed"
    },
    "tags": []
   },
   "outputs": [],
   "source": [
    "y_test.to_csv('/kaggle/working/test_predictions.csv')"
   ]
  }
 ],
 "metadata": {
  "kernelspec": {
   "display_name": "Python 3",
   "language": "python",
   "name": "python3"
  },
  "language_info": {
   "codemirror_mode": {
    "name": "ipython",
    "version": 3
   },
   "file_extension": ".py",
   "mimetype": "text/x-python",
   "name": "python",
   "nbconvert_exporter": "python",
   "pygments_lexer": "ipython3",
   "version": "3.7.12"
  },
  "papermill": {
   "default_parameters": {},
   "duration": 16.764215,
   "end_time": "2023-01-02T01:27:35.413782",
   "environment_variables": {},
   "exception": null,
   "input_path": "__notebook__.ipynb",
   "output_path": "__notebook__.ipynb",
   "parameters": {},
   "start_time": "2023-01-02T01:27:18.649567",
   "version": "2.3.4"
  }
 },
 "nbformat": 4,
 "nbformat_minor": 5
}
